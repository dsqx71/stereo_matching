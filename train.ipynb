{
 "cells": [
  {
   "cell_type": "code",
   "execution_count": 9,
   "metadata": {
    "collapsed": false
   },
   "outputs": [],
   "source": [
    "import mxnet as mx\n",
    "import numpy as np\n",
    "import logging\n",
    "import math\n",
    "from skimage import io\n",
    "from sklearn import utils\n",
    "logging.basicConfig(level = logging.DEBUG)"
   ]
  },
  {
   "cell_type": "markdown",
   "metadata": {},
   "source": [
    "## User Define layer"
   ]
  },
  {
   "cell_type": "code",
   "execution_count": 10,
   "metadata": {
    "collapsed": false
   },
   "outputs": [],
   "source": [
    "class Dot(mx.operator.NumpyOp):\n",
    "    def __init__(self):\n",
    "        super(Dot,self).__init__(True)\n",
    "    def list_arguments(self):\n",
    "        return ['x','y']\n",
    "    def list_outputs(self):\n",
    "        return ['output']\n",
    "    def infer_shape(self,in_shape):\n",
    "        data1_shape = in_shape[0]\n",
    "        data2_shape = in_shape[1]\n",
    "        output_shape = (in_shape[0][0],) \n",
    "        return [data1_shape,data2_shape],[output_shape]\n",
    "    def forward(self,in_data,out_data):\n",
    "        x = in_data[0]\n",
    "        y = in_data[1]\n",
    "        output = out_data[0]\n",
    "        #print 'forward shape',x.shape,y.shape,output.shape\n",
    "        output[:] =  (x*y).sum(axis=1)\n",
    "        #print  out_data.shape \n",
    "    def backward(self,out_grad,in_data,out_data,in_grad):\n",
    "        x = in_data[0]\n",
    "        y = in_data[1]\n",
    "        dx = in_grad[0]\n",
    "        dy = in_grad[1]\n",
    "        #print 'backward',out_grad.shape,in_grad.shape\n",
    "        for i in xrange(out_grad[0].shape[0]):\n",
    "            dx[i] = out_grad[0][i] * y[i]\n",
    "            dy[i] = out_grad[0][i] * x[i]\n",
    "        #print out_grad.shape"
   ]
  },
  {
   "cell_type": "markdown",
   "metadata": {},
   "source": [
    "## Network"
   ]
  },
  {
   "cell_type": "code",
   "execution_count": 11,
   "metadata": {
    "collapsed": false,
    "scrolled": true
   },
   "outputs": [],
   "source": [
    "data_sign = ['left','right','left_downsample','right_downsample','label','LinearRegression_label']\n",
    "left  = mx.sym.Variable('left')\n",
    "right = mx.sym.Variable('right')\n",
    "\n",
    "leftdownsample = mx.sym.Variable('left_downsample')\n",
    "rightdownsample= mx.sym.Variable('right_downsample')\n",
    "weight1_blue = mx.sym.Variable('l1_blue')\n",
    "weight2_blue = mx.sym.Variable('l2_blue')\n",
    "weight3_blue = mx.sym.Variable('l3_blue')\n",
    "weight4_blue = mx.sym.Variable('l4_blue')\n",
    "b1_blue = mx.sym.Variable('bias1_blue')\n",
    "b2_blue = mx.sym.Variable('bias2_blue')\n",
    "b3_blue = mx.sym.Variable('bias3_blue')\n",
    "b4_blue = mx.sym.Variable('bias4_blue')\n",
    "weight1_red  = mx.sym.Variable('l1_red')\n",
    "weight2_red  = mx.sym.Variable('l2_red')\n",
    "weight3_red  = mx.sym.Variable('l3_red')\n",
    "weight4_red  = mx.sym.Variable('l4_red')\n",
    "\n",
    "conv1_1_blue = mx.sym.Convolution(data=left, weight=weight1_blue,bias =b1_blue,kernel=(3,3),pad=(1,1),num_filter = 32)\n",
    "conv1_2_blue = mx.sym.Convolution(data=right,weight=weight1_blue,bias =b1_blue,kernel=(3,3),pad=(1,1),num_filter = 32)\n",
    "conv2_1_blue = mx.sym.Convolution(data=conv1_1_blue,weight=weight2_blue,bias = b2_blue,kernel=(3,3),pad=(1,1),num_filter = 32)\n",
    "conv2_2_blue = mx.sym.Convolution(data=conv1_2_blue,weight=weight2_blue,bias = b2_blue,kernel=(3,3),pad=(1,1),num_filter = 32)\n",
    "conv3_1_blue = mx.sym.Convolution(data=conv2_1_blue,weight=weight3_blue,bias = b3_blue,kernel=(5,5),pad=(2,2),num_filter = 200)\n",
    "conv3_2_blue = mx.sym.Convolution(data=conv2_2_blue,weight=weight3_blue,bias = b3_blue,kernel=(5,5),pad=(2,2),num_filter = 200)\n",
    "conv4_1_blue = mx.sym.Convolution(data=conv3_1_blue,weight=weight4_blue,bias = b4_blue,kernel=(5,5),pad=(2,2),num_filter = 200)\n",
    "conv4_2_blue = mx.sym.Convolution(data=conv3_2_blue,weight=weight4_blue,bias = b4_blue,kernel=(5,5),pad=(2,2),num_filter = 200)\n",
    "\n",
    "conv1_1_red = mx.sym.Convolution(data=leftdownsample,weight=weight1_red,kernel=(3,3),pad=(1,1),num_filter = 32)\n",
    "conv1_2_red = mx.sym.Convolution(data=rightdownsample,weight=weight1_red,kernel=(3,3),pad=(1,1),num_filter =32)\n",
    "conv2_1_red = mx.sym.Convolution(data=conv1_1_red,weight=weight2_red,kernel=(3,3),pad=(1,1),num_filter = 32)\n",
    "conv2_2_red = mx.sym.Convolution(data=conv1_2_red,weight=weight2_red,kernel=(3,3),pad=(1,1),num_filter = 32)\n",
    "conv3_1_red = mx.sym.Convolution(data=conv2_1_red,weight=weight3_red,kernel=(5,5),pad=(2,2),num_filter = 200)\n",
    "conv3_2_red = mx.sym.Convolution(data=conv2_2_red,weight=weight3_red,kernel=(5,5),pad=(2,2),num_filter = 200)\n",
    "conv4_1_red = mx.sym.Convolution(data=conv3_1_red,weight=weight4_red,kernel=(5,5),pad=(2,2),num_filter = 200)\n",
    "conv4_2_red = mx.sym.Convolution(data=conv3_2_red,weight=weight4_red,kernel=(5,5),pad=(2,2),num_filter = 200)\n",
    "f_blue1 = mx.sym.Flatten(data = conv4_1_blue)\n",
    "f_blue2 = mx.sym.Flatten(data = conv4_2_blue)\n",
    "f_red1 = mx.sym.Flatten(data = conv4_1_red)\n",
    "f_red2 = mx.sym.Flatten(data = conv4_2_red)\n",
    "#dot = Dot()\n",
    "#s = dot(x = f_blue1 ,y =f_blue2,name='dot_product1') #+ w2*dot(x = f_red1,y = f_red2,name='dot_product2')\n",
    "s = mx.sym.Dotproduct(data1=f_blue1,data2=f_blue2)\n",
    "net = mx.sym.Group([f_blue1,f_blue2,s])\n",
    "\n",
    "batch_size = 1024\n",
    "s1 = (batch_size,3,13,13)\n",
    "s2 = (batch_size,3,7,7)\n",
    "\n",
    "args_shape,out_shape,aux_shape = net.infer_shape(left=s1,right=s1)\n",
    "args_shape = dict(zip(net.list_arguments(),args_shape))\n",
    "executor = net.simple_bind(ctx=mx.gpu(3),grad_req='write',left = s1,right= s1)\n",
    "keys = net.list_arguments()\n",
    "args = executor.arg_arrays\n",
    "grads = dict(zip(net.list_arguments(),executor.grad_arrays))\n",
    "args = dict(zip(keys,args))\n",
    "auxs = dict(zip(keys,executor.arg_arrays))"
   ]
  },
  {
   "cell_type": "code",
   "execution_count": 12,
   "metadata": {
    "collapsed": false
   },
   "outputs": [],
   "source": [
    "#mx.viz.plot_network(net)"
   ]
  },
  {
   "cell_type": "markdown",
   "metadata": {},
   "source": [
    "## Iterator"
   ]
  },
  {
   "cell_type": "code",
   "execution_count": 13,
   "metadata": {
    "collapsed": false
   },
   "outputs": [],
   "source": [
    "def get_data_dir(high,low):\n",
    "    data = []\n",
    "    for num in range(high,low):\n",
    "        dir_name = '000{}'.format(num)\n",
    "        if len(dir_name) ==4 :\n",
    "            dir_name = '00'+dir_name\n",
    "        elif len(dir_name) == 5:\n",
    "            dir_name = '0'+dir_name\n",
    "        gt = './disp_noc/'+dir_name+'_10.png'.format(num)\n",
    "        imgL = './colored_0/'+dir_name+'_10.png'.format(num)\n",
    "        imgR ='./colored_0/'+dir_name+'_11.png'.format(num)\n",
    "        data.append((gt,imgL,imgR))\n",
    "    return data\n",
    "\n",
    "def init(key,weight):\n",
    "    if 'bias' in key:\n",
    "        weight[:] = 0\n",
    "    elif key not in data_sign:\n",
    "        weight[:] = mx.random.uniform(-0.007,0.007,weight.shape) \n",
    "        \n",
    "def sgd(key,weight,grad,lr,bacth_size):\n",
    "    if key not in data_sign:\n",
    "        weight = weight - lr*(1/batch_size)*grad\n",
    "\n",
    "def load_data():\n",
    "    args['left'][:] = np.asarray(l_ls[:batch_size])\n",
    "    del l_ls[:batch_size]\n",
    "    args['right'][:]= np.asarray(r_ls[:batch_size])\n",
    "    del r_ls[:batch_size]\n",
    "    args['left_downsample'] = mx.nd.array(ld_ls[:batch_size])\n",
    "    del ld_ls[:batch_size]\n",
    "    args['right_downsample']= mx.nd.array(rd_ls[:batch_size])\n",
    "    del rd_ls[:batch_size]\n",
    "    gt = mx.nd.array(labels[:batch_size])\n",
    "    del labels[:batch_size]\n",
    "    \n",
    "def cal_grads(pred,label):\n",
    "    return mx.nd.array((pred - label)*2)\n",
    "\n",
    "def train():\n",
    "    utils.shuffle(l_ls,r_ls,ld_ls,rd_ls,labels,random_state=0)\n",
    "    global count\n",
    "    global tot\n",
    "    while len(labels)>=batch_size:  \n",
    "        load_data() \n",
    "        count +=1\n",
    "        executor.forward(is_train=True)\n",
    "        output = executor.outputs[2]\n",
    "        grad = 2*(output-gt)\n",
    "        grad = grad.copyto(mx.gpu(3))\n",
    "        acc = (mx.nd.square(output-gt).asnumpy()).mean()\n",
    "        logging.info(\"{}th pair img:{}th iteration square acc:{}\".format(num,count,acc))\n",
    "        executor.backward([mx.nd.zeros((batch_size,33800),ctx=mx.gpu(3)),mx.nd.zeros((batch_size,33800),ctx=mx.gpu(3)),grad])\n",
    "        for index,key in enumerate(keys):\n",
    "            if key not in data_sign:\n",
    "                opt.update(index,args[key],grads[key],states[key])\n",
    "        tot+=1\n",
    "def valdiate():\n",
    "    utils.shuffle(l_ls,r_ls,ld_ls,rd_ls,labels,random_state=0)\n",
    "    while len(labels)>=batch_size:  \n",
    "        load_data() \n",
    "        count +=1\n",
    "        executor.forward(is_train=False)\n",
    "        output = executor.outputs[2]\n",
    "        acc = (mx.nd.square(output-gt).asnumpy()).mean()\n",
    "        logging.info(\"{}th pair img:{}th iteration square acc:{}\".format(num,count,acc))\n",
    "        tot+=1\n",
    "def generate_patch(left,right,dis):\n",
    "    for y in xrange(scale,dis.shape[0]-scale):\n",
    "        for x in xrange(scale,dis.shape[1]-scale):\n",
    "            if dis[y,x]!=0:\n",
    "                d = dis[y,x]\n",
    "                if x-d>=scale :\n",
    "                    l_ls.append(left[:,y-scale:y+1+scale,x-scale:x+1+scale])\n",
    "                    r_ls.append(right[:,y-scale:y+1+scale,x-scale-d:x+1+scale-d])\n",
    "                    ld_ls.append(left[:,y-scale:y+1+scale:2,x-scale:x+1+scale:2])\n",
    "                    rd_ls.append(right[:,y-scale:y+1+scale:2,x-scale-d:x+1+scale-d:2])\n",
    "                    labels.append(1)\n",
    "                    while True:\n",
    "                        #np.random.seed(0)\n",
    "                        xn = np.random.randint(0,dis.shape[1])\n",
    "                        if xn-scale>=0 and xn<dis.shape[1]-scale and x-d != xn:\n",
    "                            break\n",
    "                    l_ls.append(left[:,y-scale:y+1+scale,x-scale:x+1+scale])\n",
    "                    r_ls.append(right[:,y-scale:y+1+scale,xn-scale:xn+1+scale])\n",
    "                    ld_ls.append(left[:,y-scale:y+scale+1:2,x-scale:x+1+scale:2])\n",
    "                    rd_ls.append(right[:,y-scale:y+scale+1:2,xn-scale:xn+1+scale:2])\n",
    "                    labels.append(0)\n",
    "    return l_ls,r_ls,ld_ls,rd_ls,labels\n",
    "def dir2img(ith):\n",
    "    dis = np.round(io.imread(ith[0])/256.0).astype(int)\n",
    "    left= io.imread(ith[2]) - 128.0\n",
    "    left= left.swapaxes(2,1).swapaxes(1,0)\n",
    "    right=io.imread(ith[1]) - 128.0\n",
    "    right = right.swapaxes(2,1).swapaxes(1,0)\n",
    "    return dis,left,right"
   ]
  },
  {
   "cell_type": "code",
   "execution_count": 14,
   "metadata": {
    "collapsed": false
   },
   "outputs": [
    {
     "ename": "MXNetError",
     "evalue": "[10:10:40] src/ndarray/ndarray.cc:33: Check failed: lhs.ctx() == rhs.ctx() operands context mismatch",
     "output_type": "error",
     "traceback": [
      "\u001b[1;31m---------------------------------------------------------------------------\u001b[0m",
      "\u001b[1;31mMXNetError\u001b[0m                                Traceback (most recent call last)",
      "\u001b[1;32m<ipython-input-14-34871b60cad2>\u001b[0m in \u001b[0;36m<module>\u001b[1;34m()\u001b[0m\n\u001b[0;32m     24\u001b[0m         \u001b[0mgenerate_patch\u001b[0m\u001b[1;33m(\u001b[0m\u001b[0mleft\u001b[0m\u001b[1;33m,\u001b[0m\u001b[0mright\u001b[0m\u001b[1;33m,\u001b[0m\u001b[0mdis\u001b[0m\u001b[1;33m)\u001b[0m\u001b[1;33m\u001b[0m\u001b[0m\n\u001b[0;32m     25\u001b[0m         \u001b[0mlogging\u001b[0m\u001b[1;33m.\u001b[0m\u001b[0minfo\u001b[0m\u001b[1;33m(\u001b[0m\u001b[1;34m'training {}th pair img has generate {} patches'\u001b[0m\u001b[1;33m.\u001b[0m\u001b[0mformat\u001b[0m\u001b[1;33m(\u001b[0m\u001b[0mnum\u001b[0m\u001b[1;33m,\u001b[0m\u001b[0mlen\u001b[0m\u001b[1;33m(\u001b[0m\u001b[0mlabels\u001b[0m\u001b[1;33m)\u001b[0m\u001b[1;33m)\u001b[0m\u001b[1;33m)\u001b[0m\u001b[1;33m\u001b[0m\u001b[0m\n\u001b[1;32m---> 26\u001b[1;33m         \u001b[0mtrain\u001b[0m\u001b[1;33m(\u001b[0m\u001b[1;33m)\u001b[0m\u001b[1;33m\u001b[0m\u001b[0m\n\u001b[0m\u001b[0;32m     27\u001b[0m \u001b[1;33m\u001b[0m\u001b[0m\n\u001b[0;32m     28\u001b[0m     \u001b[1;32mfor\u001b[0m \u001b[0mnum\u001b[0m\u001b[1;33m,\u001b[0m\u001b[0mith\u001b[0m \u001b[1;32min\u001b[0m \u001b[0menumerate\u001b[0m\u001b[1;33m(\u001b[0m\u001b[0mval_list\u001b[0m\u001b[1;33m)\u001b[0m\u001b[1;33m:\u001b[0m\u001b[1;33m\u001b[0m\u001b[0m\n",
      "\u001b[1;32m<ipython-input-13-9770c48c5c82>\u001b[0m in \u001b[0;36mtrain\u001b[1;34m()\u001b[0m\n\u001b[0;32m     47\u001b[0m         \u001b[0mexecutor\u001b[0m\u001b[1;33m.\u001b[0m\u001b[0mforward\u001b[0m\u001b[1;33m(\u001b[0m\u001b[0mis_train\u001b[0m\u001b[1;33m=\u001b[0m\u001b[0mTrue\u001b[0m\u001b[1;33m)\u001b[0m\u001b[1;33m\u001b[0m\u001b[0m\n\u001b[0;32m     48\u001b[0m         \u001b[0moutput\u001b[0m \u001b[1;33m=\u001b[0m \u001b[0mexecutor\u001b[0m\u001b[1;33m.\u001b[0m\u001b[0moutputs\u001b[0m\u001b[1;33m[\u001b[0m\u001b[1;36m2\u001b[0m\u001b[1;33m]\u001b[0m\u001b[1;33m\u001b[0m\u001b[0m\n\u001b[1;32m---> 49\u001b[1;33m         \u001b[0mgrad\u001b[0m \u001b[1;33m=\u001b[0m \u001b[1;36m2\u001b[0m\u001b[1;33m*\u001b[0m\u001b[1;33m(\u001b[0m\u001b[0moutput\u001b[0m\u001b[1;33m-\u001b[0m\u001b[0mgt\u001b[0m\u001b[1;33m)\u001b[0m\u001b[1;33m\u001b[0m\u001b[0m\n\u001b[0m\u001b[0;32m     50\u001b[0m         \u001b[0mgrad\u001b[0m \u001b[1;33m=\u001b[0m \u001b[0mgrad\u001b[0m\u001b[1;33m.\u001b[0m\u001b[0mcopyto\u001b[0m\u001b[1;33m(\u001b[0m\u001b[0mmx\u001b[0m\u001b[1;33m.\u001b[0m\u001b[0mgpu\u001b[0m\u001b[1;33m(\u001b[0m\u001b[1;36m3\u001b[0m\u001b[1;33m)\u001b[0m\u001b[1;33m)\u001b[0m\u001b[1;33m\u001b[0m\u001b[0m\n\u001b[0;32m     51\u001b[0m         \u001b[0macc\u001b[0m \u001b[1;33m=\u001b[0m \u001b[1;33m(\u001b[0m\u001b[0mmx\u001b[0m\u001b[1;33m.\u001b[0m\u001b[0mnd\u001b[0m\u001b[1;33m.\u001b[0m\u001b[0msquare\u001b[0m\u001b[1;33m(\u001b[0m\u001b[0moutput\u001b[0m\u001b[1;33m-\u001b[0m\u001b[0mgt\u001b[0m\u001b[1;33m)\u001b[0m\u001b[1;33m.\u001b[0m\u001b[0masnumpy\u001b[0m\u001b[1;33m(\u001b[0m\u001b[1;33m)\u001b[0m\u001b[1;33m)\u001b[0m\u001b[1;33m.\u001b[0m\u001b[0mmean\u001b[0m\u001b[1;33m(\u001b[0m\u001b[1;33m)\u001b[0m\u001b[1;33m\u001b[0m\u001b[0m\n",
      "\u001b[1;32m/home/xudong/mxnet/python/mxnet/ndarray.pyc\u001b[0m in \u001b[0;36m__sub__\u001b[1;34m(self, other)\u001b[0m\n\u001b[0;32m    114\u001b[0m     \u001b[1;32mdef\u001b[0m \u001b[0m__sub__\u001b[0m\u001b[1;33m(\u001b[0m\u001b[0mself\u001b[0m\u001b[1;33m,\u001b[0m \u001b[0mother\u001b[0m\u001b[1;33m)\u001b[0m\u001b[1;33m:\u001b[0m\u001b[1;33m\u001b[0m\u001b[0m\n\u001b[0;32m    115\u001b[0m         \u001b[1;32mif\u001b[0m \u001b[0misinstance\u001b[0m\u001b[1;33m(\u001b[0m\u001b[0mother\u001b[0m\u001b[1;33m,\u001b[0m \u001b[0mNDArray\u001b[0m\u001b[1;33m)\u001b[0m\u001b[1;33m:\u001b[0m\u001b[1;33m\u001b[0m\u001b[0m\n\u001b[1;32m--> 116\u001b[1;33m             \u001b[1;32mreturn\u001b[0m \u001b[0mNDArray\u001b[0m\u001b[1;33m.\u001b[0m\u001b[0m_minus\u001b[0m\u001b[1;33m(\u001b[0m\u001b[0mself\u001b[0m\u001b[1;33m,\u001b[0m \u001b[0mother\u001b[0m\u001b[1;33m)\u001b[0m\u001b[1;33m\u001b[0m\u001b[0m\n\u001b[0m\u001b[0;32m    117\u001b[0m         \u001b[1;32melif\u001b[0m \u001b[0misinstance\u001b[0m\u001b[1;33m(\u001b[0m\u001b[0mother\u001b[0m\u001b[1;33m,\u001b[0m \u001b[0mnumeric_types\u001b[0m\u001b[1;33m)\u001b[0m\u001b[1;33m:\u001b[0m\u001b[1;33m\u001b[0m\u001b[0m\n\u001b[0;32m    118\u001b[0m             \u001b[1;32mreturn\u001b[0m \u001b[0mNDArray\u001b[0m\u001b[1;33m.\u001b[0m\u001b[0m_minus_scalar\u001b[0m\u001b[1;33m(\u001b[0m\u001b[0mself\u001b[0m\u001b[1;33m,\u001b[0m \u001b[0mfloat\u001b[0m\u001b[1;33m(\u001b[0m\u001b[0mother\u001b[0m\u001b[1;33m)\u001b[0m\u001b[1;33m)\u001b[0m\u001b[1;33m\u001b[0m\u001b[0m\n",
      "\u001b[1;32m/home/xudong/mxnet/python/mxnet/ndarray.pyc\u001b[0m in \u001b[0;36mbinary_ndarray_function\u001b[1;34m(lhs, rhs, out)\u001b[0m\n\u001b[0;32m    684\u001b[0m                                        \u001b[0mctypes\u001b[0m\u001b[1;33m.\u001b[0m\u001b[0mc_int\u001b[0m\u001b[1;33m(\u001b[0m\u001b[1;36m0\u001b[0m\u001b[1;33m)\u001b[0m\u001b[1;33m,\u001b[0m\u001b[1;33m\u001b[0m\u001b[0m\n\u001b[0;32m    685\u001b[0m                                        \u001b[0mc_array\u001b[0m\u001b[1;33m(\u001b[0m\u001b[0mctypes\u001b[0m\u001b[1;33m.\u001b[0m\u001b[0mc_char_p\u001b[0m\u001b[1;33m,\u001b[0m \u001b[1;33m[\u001b[0m\u001b[1;33m]\u001b[0m\u001b[1;33m)\u001b[0m\u001b[1;33m,\u001b[0m\u001b[1;33m\u001b[0m\u001b[0m\n\u001b[1;32m--> 686\u001b[1;33m                                        c_array(ctypes.c_char_p, [])))\n\u001b[0m\u001b[0;32m    687\u001b[0m         \u001b[1;32mreturn\u001b[0m \u001b[0mout\u001b[0m\u001b[1;33m\u001b[0m\u001b[0m\n\u001b[0;32m    688\u001b[0m \u001b[1;33m\u001b[0m\u001b[0m\n",
      "\u001b[1;32m/home/xudong/mxnet/python/mxnet/base.pyc\u001b[0m in \u001b[0;36mcheck_call\u001b[1;34m(ret)\u001b[0m\n\u001b[0;32m     75\u001b[0m     \"\"\"\n\u001b[0;32m     76\u001b[0m     \u001b[1;32mif\u001b[0m \u001b[0mret\u001b[0m \u001b[1;33m!=\u001b[0m \u001b[1;36m0\u001b[0m\u001b[1;33m:\u001b[0m\u001b[1;33m\u001b[0m\u001b[0m\n\u001b[1;32m---> 77\u001b[1;33m         \u001b[1;32mraise\u001b[0m \u001b[0mMXNetError\u001b[0m\u001b[1;33m(\u001b[0m\u001b[0mpy_str\u001b[0m\u001b[1;33m(\u001b[0m\u001b[0m_LIB\u001b[0m\u001b[1;33m.\u001b[0m\u001b[0mMXGetLastError\u001b[0m\u001b[1;33m(\u001b[0m\u001b[1;33m)\u001b[0m\u001b[1;33m)\u001b[0m\u001b[1;33m)\u001b[0m\u001b[1;33m\u001b[0m\u001b[0m\n\u001b[0m\u001b[0;32m     78\u001b[0m \u001b[1;33m\u001b[0m\u001b[0m\n\u001b[0;32m     79\u001b[0m \u001b[1;32mdef\u001b[0m \u001b[0mc_str\u001b[0m\u001b[1;33m(\u001b[0m\u001b[0mstring\u001b[0m\u001b[1;33m)\u001b[0m\u001b[1;33m:\u001b[0m\u001b[1;33m\u001b[0m\u001b[0m\n",
      "\u001b[1;31mMXNetError\u001b[0m: [10:10:40] src/ndarray/ndarray.cc:33: Check failed: lhs.ctx() == rhs.ctx() operands context mismatch"
     ]
    }
   ],
   "source": [
    "scale = 6\n",
    "num_epoches = 5\n",
    "tot = 0\n",
    "count = 0\n",
    "data_list = get_data_dir(0,3)\n",
    "val_list = get_data_dir(160,181)\n",
    "test_list= get_data_dir(181,194)\n",
    "states = {}\n",
    "l_ls = []\n",
    "r_ls = []\n",
    "ld_ls = []\n",
    "rd_ls = []\n",
    "labels = []\n",
    "gt = mx.nd.zeros((batch_size,),mx.gpu(3))\n",
    "opt = mx.optimizer.ccSGD(learning_rate=0.00001,momentum=0.9,wd=0.00001,rescale_grad=(1.0/batch_size))\n",
    "for index,key in enumerate(keys):\n",
    "    if key not in data_sign:\n",
    "        states[key] = opt.create_state(index,args[key])\n",
    "        init(key,args[key])\n",
    "        \n",
    "for ith_epoche in range(num_epoches):\n",
    "    for num,ith in enumerate(data_list):\n",
    "        dis,left,right = dir2img(ith)\n",
    "        generate_patch(left,right,dis)\n",
    "        logging.info('training {}th pair img has generate {} patches'.format(num,len(labels)))\n",
    "        train()\n",
    "\n",
    "    for num,ith in enumerate(val_list):\n",
    "        dis = dis,left,right = dir2img(ith)\n",
    "        generate_patch(left,right,dis)\n",
    "        logging.info('val {}th pair img has generate {} patches'.format(num,len(labels)))\n",
    "        valdiate()\n",
    "    opt.lr = opt.lr * 0.1\n",
    "    mx.model.save_checkpoint('stereomatching',ith_epoche,net,args,auxs)"
   ]
  },
  {
   "cell_type": "code",
   "execution_count": 10,
   "metadata": {
    "collapsed": false
   },
   "outputs": [
    {
     "data": {
      "text/plain": [
       "(1024L,)"
      ]
     },
     "execution_count": 10,
     "metadata": {},
     "output_type": "execute_result"
    }
   ],
   "source": [
    "sta"
   ]
  },
  {
   "cell_type": "code",
   "execution_count": null,
   "metadata": {
    "collapsed": false
   },
   "outputs": [],
   "source": [
    "%matplotlib inline\n",
    "import matplotlib.pyplot as plt\n",
    "plt.figure(1)\n",
    "plt.figure(2)\n",
    "plt.figure(1)\n",
    "i = 1518\n",
    "plt.imshow(l_ls[i].swapaxes(0,1).swapaxes(1,2)+128)\n",
    "plt.figure(2)\n",
    "plt.imshow(r_ls[i].swapaxes(0,1).swapaxes(1,2)+128) "
   ]
  }
 ],
 "metadata": {
  "kernelspec": {
   "display_name": "Python 2",
   "language": "python",
   "name": "python2"
  },
  "language_info": {
   "codemirror_mode": {
    "name": "ipython",
    "version": 2
   },
   "file_extension": ".py",
   "mimetype": "text/x-python",
   "name": "python",
   "nbconvert_exporter": "python",
   "pygments_lexer": "ipython2",
   "version": "2.7.6"
  }
 },
 "nbformat": 4,
 "nbformat_minor": 0
}
